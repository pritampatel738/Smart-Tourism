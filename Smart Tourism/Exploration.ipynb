{
 "cells": [
  {
   "cell_type": "code",
   "execution_count": 1,
   "metadata": {},
   "outputs": [],
   "source": [
    "import pandas as pd\n",
    "import numpy as np\n",
    "import matplotlib.pyplot as plt\n",
    "%matplotlib inline\n",
    "#from keras.preprocessing.image import img_to_array,load_img\n",
    "import math\n",
    "from sklearn.preprocessing import LabelEncoder"
   ]
  },
  {
   "cell_type": "code",
   "execution_count": 6,
   "metadata": {},
   "outputs": [],
   "source": [
    "df = pd.read_csv('data/final_data.csv')"
   ]
  },
  {
   "cell_type": "code",
   "execution_count": 7,
   "metadata": {},
   "outputs": [
    {
     "name": "stdout",
     "output_type": "stream",
     "text": [
      "           Name      Region          Type  airport_dist(km)  railway_dist(km)  \\\n",
      "0         Kufri  North East  Hill Station              20.0             100.0   \n",
      "1  Wilson Hills        West  Hill Station             122.0              60.0   \n",
      "2   Paithalmala       South  Hill Station             159.0              39.0   \n",
      "3       Ponmudi       South  Hill Station              51.0              33.0   \n",
      "4     Ranipuram       South  Hill Station             125.0              55.0   \n",
      "\n",
      "   Elevation(m)  rating  \n",
      "0        2210.0     7.0  \n",
      "1         750.0     8.0  \n",
      "2        1372.0     9.0  \n",
      "3        1100.0     9.0  \n",
      "4        1022.0     9.0  \n",
      "(61, 7)\n",
      "<class 'pandas.core.frame.DataFrame'>\n",
      "RangeIndex: 61 entries, 0 to 60\n",
      "Data columns (total 7 columns):\n",
      "Name                61 non-null object\n",
      "Region              61 non-null object\n",
      "Type                61 non-null object\n",
      "airport_dist(km)    61 non-null float64\n",
      "railway_dist(km)    61 non-null float64\n",
      "Elevation(m)        49 non-null float64\n",
      "rating              49 non-null float64\n",
      "dtypes: float64(4), object(3)\n",
      "memory usage: 3.4+ KB\n",
      "None\n"
     ]
    }
   ],
   "source": [
    "print(df.head())\n",
    "print(df.shape)\n",
    "print(df.info())"
   ]
  },
  {
   "cell_type": "code",
   "execution_count": 15,
   "metadata": {},
   "outputs": [
    {
     "name": "stdout",
     "output_type": "stream",
     "text": [
      "Name                False\n",
      "Region              False\n",
      "Type                False\n",
      "airport_dist(km)    False\n",
      "railway_dist(km)    False\n",
      "Elevation(m)        False\n",
      "rating              False\n",
      "dtype: bool\n"
     ]
    }
   ],
   "source": [
    "print(df[:49].isnull().any())"
   ]
  },
  {
   "cell_type": "code",
   "execution_count": 16,
   "metadata": {},
   "outputs": [
    {
     "name": "stdout",
     "output_type": "stream",
     "text": [
      "(49, 7)\n"
     ]
    }
   ],
   "source": [
    "df = df[:49]\n",
    "print(df.shape)"
   ]
  },
  {
   "cell_type": "code",
   "execution_count": 17,
   "metadata": {},
   "outputs": [
    {
     "name": "stdout",
     "output_type": "stream",
     "text": [
      "0\n"
     ]
    }
   ],
   "source": [
    "print(df.isnull().any().sum())"
   ]
  },
  {
   "cell_type": "code",
   "execution_count": 23,
   "metadata": {},
   "outputs": [
    {
     "name": "stdout",
     "output_type": "stream",
     "text": [
      "Index(['Name', 'Region', 'Type', 'airport_dist(km)', 'railway_dist(km)',\n",
      "       'Elevation(m)', 'rating'],\n",
      "      dtype='object')\n"
     ]
    }
   ],
   "source": [
    "print(df.columns)"
   ]
  },
  {
   "cell_type": "code",
   "execution_count": null,
   "metadata": {},
   "outputs": [],
   "source": []
  },
  {
   "cell_type": "code",
   "execution_count": null,
   "metadata": {},
   "outputs": [],
   "source": [
    "\n",
    "import pandas as pd\n",
    "import numpy as np\n",
    "import matplotlib.pyplot as plt\n",
    "%matplotlib inline\n",
    "#from keras.preprocessing.image import img_to_array,load_img\n",
    "import math\n",
    "from sklearn.preprocessing import LabelEncoder\n",
    "\n",
    "def mod_value(vect):\n",
    "    # this returns modulus  of vector ......\n",
    "    l = len(vect)\n",
    "    s = 0\n",
    "    for i in range(l):\n",
    "        s += vect[i]**2\n",
    "        \n",
    "    s = math.sqrt(s)\n",
    "    return s\n",
    "\n",
    "def cosine_similarity(vect_a,vect_b):\n",
    "\n",
    "    # returns the cosine similarity of two given vectors ....\n",
    "    l_a = len(vect_a)\n",
    "    l_b = len(vect_b)\n",
    "\n",
    "    if l_a != l_b:\n",
    "        print(\"Invalid Arguments\")\n",
    "        return\n",
    "        \n",
    "    dot_product = np.dot(vect_a,vect_b)\n",
    "    mod_a = mod_value(vect_a)\n",
    "    mod_b = mod_value(vect_b)\n",
    "    ret_value = dot_product / np.multiply(mod_a,mod_b)\n",
    "    return ret_value\n",
    "\n",
    "def content_based(user_profile,data):\n",
    "    sim_dict = {} # to store name value pairs .....\n",
    "    \n",
    "    length = len(data) # total length of the data .....\n",
    "    \n",
    "    print(\"The length of the data is : \",length)\n",
    "    \n",
    "    names_array = data['Name'] # storing the name columns of data .....\n",
    "    new_data = data.drop(['Name'],axis=1) # data without 'Name' column ....\n",
    "    \n",
    "    #print(new_data[:5])\n",
    "    \n",
    "    for i in range(length):\n",
    "        \n",
    "        # pick current row .....\n",
    "        curr_row = new_data.iloc[i]\n",
    "        \n",
    "        # now calculate the similarity ........\n",
    "        curr_row = curr_row.astype('float32') / 1.0\n",
    "        \n",
    "        sim_value = cosine_similarity(curr_row,user_profile)\n",
    "        \n",
    "        # store the vale in dictionary ......\n",
    "        sim_dict[names_array[i]] = sim_value\n",
    "        \n",
    "        #print(\"The name and similarity value obtained is : \",names_array[i],sim_value)\n",
    "        \n",
    "    \n",
    "    sim_dict_values = sorted(sim_dict.values()) # sort the dictionary by key value to find top 10 from last ...\n",
    "    \n",
    "    return_dict = {} # dictionary to be returned .........\n",
    "    \n",
    "    #print(\"Length of sim_dict_values is : \",len(sim_dict_values))\n",
    "    #print(sim_dict_values)\n",
    "    \n",
    "    for i in range(5):\n",
    "        value = sim_dict_values[length-i-1]\n",
    "        \n",
    "        for j in sim_dict.keys():\n",
    "            if sim_dict[j] == value:\n",
    "                \n",
    "                return_dict[j] = value\n",
    "                break\n",
    "            \n",
    "            \n",
    "            pass\n",
    "        pass\n",
    "        \n",
    "    print(return_dict)\n",
    "        \n",
    "        \n",
    "        \n",
    "        \n",
    "        \n",
    "    \n",
    "    \n",
    "\n",
    "\n",
    "\n",
    "def preprocess_data(data):\n",
    "    \"\"\"\n",
    "        (1) - To convert string values to weight values ......\n",
    "    \"\"\"\n",
    "\n",
    "    regions = ['North','South','East','West','North East','North West','South East','South West']\n",
    "    region_values = ['1','2','3','4','5','6','7','8']\n",
    "    types = ['Hill Station','Zoological Park','Beach','Temple']\n",
    "    types_values = ['100','300','500','800']\n",
    "    \n",
    "    data['Region'].replace(regions,region_values,inplace=True)\n",
    "    data['Type'].replace(types,types_values,inplace=True)\n",
    "\n",
    "    data['Type'] = data['Type'].astype('float32')\n",
    "    data['Region'] = data['Region'].astype('float32')\n",
    "    \n",
    "    # normalization of data columns ........\n",
    "    data['Elevation(m)'] = (data['Elevation(m)'] - data['Elevation(m)'].mean())/data['Elevation(m)'].std()\n",
    "    data['airport_dist(km)'] = (data['airport_dist(km)'] - data['airport_dist(km)'].mean())/data['airport_dist(km)'].std()\n",
    "    data['railway_dist(km)'] = (data['railway_dist(km)'] - data['railway_dist(km)'].mean())/data['railway_dist(km)'].std()\n",
    "    data['rating'] = (data['rating'] - data['rating'].mean())/data['rating'].std()\n",
    "    data['Type'] = (data['Type'] - data['Type'].mean())/data['Type'].std()\n",
    "    data['Region'] = (data['Region'] - data['Region'].mean())/data['Region'].std()\n",
    "    \n",
    "    \n",
    "    #print(type(data['Type'][0]))\n",
    "    #print(type(data['Region'][0]))\n",
    "    #print(\"Printing preprocessed data : \")\n",
    "    #print(data.head())\n",
    "    \n",
    "    return data\n",
    "    pass\n",
    "\n",
    "def user_profile(data,values):\n",
    "    \"\"\"\n",
    "        returns a numpy array i.e, user profile ......\n",
    "    \"\"\"\n",
    "    #data = preprocess_data(data)\n",
    "    new_df = data.iloc[values]\n",
    "    \n",
    "    features = ['Region','Type','airport_dist(km)','railway_dist(km)','Elevation(m)','rating']\n",
    "    new_df = new_df[features]\n",
    "    #print(new_df)\n",
    "    new_df = np.array(new_df.mean(axis=0))\n",
    "    \n",
    "    return new_df\n",
    "\n",
    "\n",
    "\n",
    "data = pd.read_csv('data/final_data.csv')\n",
    "data = data[:49]\n",
    "data = preprocess_data(data)\n",
    "vals = []\n",
    "for i in range(3):\n",
    "    val = int(input(\"Select any value : \"))\n",
    "    vals.append(val)\n",
    "\n",
    "#print(\"The selected values are : \",vals)\n",
    "profile = user_profile(data,vals)\n",
    "print(\"The profile is : \",profile)\n",
    "\n",
    "content_based(profile,data)\n"
   ]
  },
  {
   "cell_type": "code",
   "execution_count": null,
   "metadata": {},
   "outputs": [],
   "source": []
  },
  {
   "cell_type": "code",
   "execution_count": null,
   "metadata": {},
   "outputs": [],
   "source": []
  },
  {
   "cell_type": "code",
   "execution_count": null,
   "metadata": {},
   "outputs": [],
   "source": []
  }
 ],
 "metadata": {
  "kernelspec": {
   "display_name": "Python 3",
   "language": "python",
   "name": "python3"
  },
  "language_info": {
   "codemirror_mode": {
    "name": "ipython",
    "version": 3
   },
   "file_extension": ".py",
   "mimetype": "text/x-python",
   "name": "python",
   "nbconvert_exporter": "python",
   "pygments_lexer": "ipython3",
   "version": "3.6.6"
  }
 },
 "nbformat": 4,
 "nbformat_minor": 2
}
